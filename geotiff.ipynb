{
 "cells": [
  {
   "cell_type": "code",
   "execution_count": 1,
   "metadata": {},
   "outputs": [],
   "source": [
    "import os\n",
    "import rioxarray as rxr\n",
    "import earthpy as et\n",
    "\n",
    "et.data.get_data(\"colorado-flood\")\n",
    "os.chdir(os.path.join(et.io.HOME,'earth-analytics','data'))"
   ]
  },
  {
   "cell_type": "code",
   "execution_count": 2,
   "metadata": {},
   "outputs": [
    {
     "data": {
      "text/plain": [
       "(472000.0, 4434000.0, 476000.0, 4436000.0)"
      ]
     },
     "execution_count": 2,
     "metadata": {},
     "output_type": "execute_result"
    }
   ],
   "source": [
    "lidar_dem_path = os.path.join(\"colorado-flood\",\n",
    "                              \"spatial\",\n",
    "                              \"boulder-leehill-rd\",\n",
    "                              \"pre-flood\",\n",
    "                              \"lidar\",\n",
    "                              \"pre_DTM.tif\")\n",
    "\n",
    "pre_lidar_dem = rxr.open_rasterio(lidar_dem_path, masked=True)\n",
    "pre_lidar_dem.rio.bounds()"
   ]
  },
  {
   "cell_type": "code",
   "execution_count": 3,
   "metadata": {},
   "outputs": [
    {
     "name": "stdout",
     "output_type": "stream",
     "text": [
      "The crs of your data is: EPSG:32613\n",
      "The nodatavalue of your data is: nan\n",
      "The shape of your data is: (1, 2000, 4000)\n",
      "The spatial resolution for your data is: (1.0, -1.0)\n",
      "The metadata for your data is: {'AREA_OR_POINT': 'Area', 'scale_factor': 1.0, 'add_offset': 0.0}\n"
     ]
    }
   ],
   "source": [
    "print(\"The crs of your data is:\", pre_lidar_dem.rio.crs)\n",
    "\n",
    "print(\"The nodatavalue of your data is:\", pre_lidar_dem.rio.nodata)\n",
    "\n",
    "print(\"The shape of your data is:\", pre_lidar_dem.shape)\n",
    "\n",
    "print(\"The spatial resolution for your data is:\", pre_lidar_dem.rio.resolution())\n",
    "\n",
    "print(\"The metadata for your data is:\", pre_lidar_dem.attrs)"
   ]
  },
  {
   "cell_type": "code",
   "execution_count": 4,
   "metadata": {},
   "outputs": [
    {
     "data": {
      "text/plain": [
       "(1.0, -1.0)"
      ]
     },
     "execution_count": 4,
     "metadata": {},
     "output_type": "execute_result"
    }
   ],
   "source": [
    "pre_lidar_dem.rio.resolution()"
   ]
  },
  {
   "cell_type": "code",
   "execution_count": 5,
   "metadata": {},
   "outputs": [
    {
     "name": "stdout",
     "output_type": "stream",
     "text": [
      "The CRS of this data is:  EPSG:32613\n",
      "The spatial extent of this data is:  (472000.0, 4434000.0, 476000.0, 4436000.0)\n"
     ]
    }
   ],
   "source": [
    "print(\"The CRS of this data is: \", pre_lidar_dem.rio.crs)\n",
    "print(\"The spatial extent of this data is: \",pre_lidar_dem.rio.bounds())"
   ]
  },
  {
   "cell_type": "code",
   "execution_count": 6,
   "metadata": {},
   "outputs": [],
   "source": [
    "lidar_dsm_path = os.path.join(\"colorado-flood\", \n",
    "                              \"spatial\",\n",
    "                              \"boulder-leehill-rd\", \n",
    "                              \"pre-flood\", \n",
    "                              \"lidar\",\n",
    "                              \"pre_DSM.tif\")\n",
    "\n",
    "pre_lidar_dsm = rxr.open_rasterio(lidar_dsm_path)"
   ]
  },
  {
   "cell_type": "code",
   "execution_count": 7,
   "metadata": {},
   "outputs": [
    {
     "name": "stdout",
     "output_type": "stream",
     "text": [
      "Both datasets cover the same spatial extent.\n"
     ]
    }
   ],
   "source": [
    "if pre_lidar_dem.rio.bounds() == pre_lidar_dsm.rio.bounds():\n",
    " print(\"Both datasets cover the same spatial extent.\")"
   ]
  },
  {
   "cell_type": "code",
   "execution_count": 8,
   "metadata": {},
   "outputs": [
    {
     "data": {
      "text/plain": [
       "True"
      ]
     },
     "execution_count": 8,
     "metadata": {},
     "output_type": "execute_result"
    }
   ],
   "source": [
    "pre_lidar_dem.rio.resolution() == pre_lidar_dsm.rio.resolution()"
   ]
  },
  {
   "cell_type": "code",
   "execution_count": 9,
   "metadata": {},
   "outputs": [
    {
     "data": {
      "text/plain": [
       "CRS.from_epsg(32613)"
      ]
     },
     "execution_count": 9,
     "metadata": {},
     "output_type": "execute_result"
    }
   ],
   "source": [
    "pre_lidar_dem.rio.crs"
   ]
  },
  {
   "cell_type": "code",
   "execution_count": 10,
   "metadata": {},
   "outputs": [
    {
     "data": {
      "text/plain": [
       "'+proj=utm +zone=13 +datum=WGS84 +units=m +no_defs'"
      ]
     },
     "execution_count": 10,
     "metadata": {},
     "output_type": "execute_result"
    }
   ],
   "source": [
    "et.epsg['32613']"
   ]
  },
  {
   "cell_type": "code",
   "execution_count": 11,
   "metadata": {},
   "outputs": [
    {
     "name": "stdout",
     "output_type": "stream",
     "text": [
      "(1, 2000, 4000)\n"
     ]
    }
   ],
   "source": [
    "print(pre_lidar_dem.shape)"
   ]
  },
  {
   "cell_type": "code",
   "execution_count": 12,
   "metadata": {},
   "outputs": [
    {
     "name": "stdout",
     "output_type": "stream",
     "text": [
      "Number of bands 1\n"
     ]
    }
   ],
   "source": [
    "print(\"Number of bands\", pre_lidar_dem.rio.count)"
   ]
  },
  {
   "cell_type": "code",
   "execution_count": null,
   "metadata": {},
   "outputs": [],
   "source": []
  }
 ],
 "metadata": {
  "kernelspec": {
   "display_name": "Python 3",
   "language": "python",
   "name": "python3"
  },
  "language_info": {
   "codemirror_mode": {
    "name": "ipython",
    "version": 3
   },
   "file_extension": ".py",
   "mimetype": "text/x-python",
   "name": "python",
   "nbconvert_exporter": "python",
   "pygments_lexer": "ipython3",
   "version": "3.10.13"
  }
 },
 "nbformat": 4,
 "nbformat_minor": 2
}
